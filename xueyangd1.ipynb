{
 "cells": [
  {
   "cell_type": "markdown",
   "metadata": {},
   "source": [
    "# COMP90051 Project 2"
   ]
  },
  {
   "cell_type": "code",
   "execution_count": 1,
   "metadata": {},
   "outputs": [],
   "source": [
    "# Do not edit. These are the only imports permitted.\n",
    "%matplotlib inline\n",
    "import numpy as np\n",
    "from numpy.linalg import inv\n",
    "import matplotlib.pyplot as plt\n",
    "from abc import ABC, abstractmethod"
   ]
  },
  {
   "cell_type": "markdown",
   "metadata": {},
   "source": [
    "## 1. Implement ε-Greedy and UCB"
   ]
  },
  {
   "cell_type": "code",
   "execution_count": 2,
   "metadata": {},
   "outputs": [],
   "source": [
    "class MAB(ABC):\n",
    "    \"\"\"\n",
    "    Abstract class that represents a multi-armed bandit (MAB)\n",
    "    \"\"\"\n",
    "    \n",
    "    @abstractmethod\n",
    "    def play(self, tround, context):\n",
    "        \"\"\"\n",
    "        Play a round\n",
    "        \n",
    "        Arguments\n",
    "        =========\n",
    "        tround : int\n",
    "            positive integer identifying the round\n",
    "        \n",
    "        context : 1D float array, shape (self.ndims * self.narms), optional\n",
    "            context given to the arms\n",
    "        \n",
    "        Returns\n",
    "        =======\n",
    "        arm : int\n",
    "            the positive integer arm id for this round\n",
    "        \"\"\"\n",
    "    \n",
    "    @abstractmethod\n",
    "    def update(self, arm, reward, context):\n",
    "        \"\"\"\n",
    "        Updates the internal state of the MAB after a play\n",
    "        \n",
    "        Arguments\n",
    "        =========\n",
    "        arm : int\n",
    "            a positive integer arm id in {1, ..., self.narms}\n",
    "        \n",
    "        reward : float\n",
    "            reward received from arm\n",
    "        \n",
    "        context : 1D float array, shape (self.ndims * self.narms), optional\n",
    "            context given to arms\n",
    "        \"\"\""
   ]
  },
  {
   "cell_type": "code",
   "execution_count": 3,
   "metadata": {},
   "outputs": [],
   "source": [
    "class EpsGreedy(MAB):\n",
    "    \"\"\"\n",
    "    Epsilon-Greedy multi-armed bandit\n",
    "\n",
    "    Arguments\n",
    "    =========\n",
    "    narms : int\n",
    "        number of arms\n",
    "\n",
    "    epsilon : float\n",
    "        explore probability\n",
    "\n",
    "    Q0 : float, optional\n",
    "        initial value for the arms\n",
    "    \"\"\"\n",
    "    \n",
    "    def __init__(self, narms, epsilon, Q0=np.inf):\n",
    "        self.narms = narms\n",
    "        self.epsilon = epsilon\n",
    "        self.count = np.zeros(narms,np.int)  # the number of pulling for each arm\n",
    "        self.Q_values = np.array([Q0] * narms)    # init Q_values set to infinity\n",
    "        \n",
    "\n",
    "    def play(self, tround, context=None):\n",
    "        if np.random.random() > self.epsilon:        # a random float number in interval[0.0, 1.0), if random number > epsilon -> exploit\n",
    "            max_Q = max(self.Q_values)\n",
    "            return np.random.choice([i for i,v in enumerate(self.Q_values) if v == max_Q])  # Tie-breaking: randomly choose the largest value\n",
    "        else:                                                \n",
    "            return np.random.randint(self.narms)     # if random number < epsilon -> explore\n",
    "        \n",
    "    def update(self, arm, reward, context=None):\n",
    "        self.count[arm] += 1\n",
    "        step_size = self.count[arm]\n",
    "        if self.Q_values[arm] == np.inf:  # if pre_Qvalue is infinity -> change to 0\n",
    "            self.Q_values[arm] = 0\n",
    "        old_estimate = self.Q_values[arm]\n",
    "        self.Q_values[arm] = ((step_size - 1) / float(step_size)) * old_estimate + (1 / float(step_size)) * reward\n",
    "\n",
    "    "
   ]
  },
  {
   "cell_type": "code",
   "execution_count": 4,
   "metadata": {},
   "outputs": [],
   "source": [
    "class UCB(MAB):\n",
    "    \"\"\"\n",
    "    Upper Confidence Bound (UCB) multi-armed bandit\n",
    "\n",
    "    Arguments\n",
    "    =========\n",
    "    narms : int\n",
    "        number of arms\n",
    "\n",
    "    rho : float\n",
    "        positive real explore-exploit parameter\n",
    "\n",
    "    Q0 : float, optional\n",
    "        initial value for the arms\n",
    "    \"\"\"\n",
    "    \n",
    "    def __init__(self, narms, rho, Q0=np.inf):\n",
    "        self.narms = narms\n",
    "        self.rho = rho\n",
    "        self.count = np.zeros(narms,np.int)       # the number of pulling for each arm\n",
    "        self.Q_values = np.array([Q0] * narms)    # init Q_values set to infinity\n",
    "        self.UCB_values = np.zeros(narms)         # init UCB_values set to 0\n",
    "    \n",
    "    def play(self, tround, context=None):\n",
    "        for arm in range (self.narms):\n",
    "            if self.count[arm] == 0:              # if this arm has not been pulled, its UCB_value will be set to infinity\n",
    "                self.UCB_values[arm] = self.Q_values[arm]\n",
    "            else:\n",
    "                self.UCB_values[arm] = self.Q_values[arm] + np.sqrt((self.rho * np.log(sum(self.count))) / float(self.count[arm]))\n",
    "        max_UCB = max(self.UCB_values)\n",
    "        return np.random.choice([i for i,v in enumerate(self.UCB_values) if v == max_UCB])   # Tie-breaking: randomly choose the largest value\n",
    "    \n",
    "    def update(self, arm, reward, context=None):\n",
    "        self.count[arm] += 1\n",
    "        step_size = self.count[arm]\n",
    "        if self.Q_values[arm] == np.inf:      # if pre_Qvalue is infinity -> change to 0\n",
    "            self.Q_values[arm] = 0\n",
    "        old_estimate = self.Q_values[arm]\n",
    "        self.Q_values[arm] = ((step_size - 1) / float(step_size)) * old_estimate + (1 / float(step_size)) * reward\n",
    "        \n",
    "    "
   ]
  },
  {
   "cell_type": "markdown",
   "metadata": {},
   "source": [
    "## 2. Off-Policy Evaluation"
   ]
  },
  {
   "cell_type": "code",
   "execution_count": 5,
   "metadata": {},
   "outputs": [],
   "source": [
    "def offlineEvaluate(mab, arms, rewards, contexts, nrounds=None):\n",
    "    \"\"\"\n",
    "    Offline evaluation of a multi-armed bandit\n",
    "    \n",
    "    Arguments\n",
    "    =========\n",
    "    mab : instance of MAB\n",
    "    \n",
    "    arms : 1D int array, shape (nevents,) \n",
    "        integer arm id for each event\n",
    "    \n",
    "    rewards : 1D float array, shape (nevents,)\n",
    "        reward received for each event\n",
    "    \n",
    "    contexts : 2D float array, shape (nevents, mab.narms*nfeatures)\n",
    "        contexts presented to the arms (stacked horizontally) \n",
    "        for each event.\n",
    "        \n",
    "    nrounds : int, optional\n",
    "        number of matching events to evaluate `mab` on.\n",
    "    \n",
    "    Returns\n",
    "    =======\n",
    "    out : 1D float array\n",
    "        rewards for the matching events\n",
    "    \"\"\"\n",
    "    index = 0              #  index of each event\n",
    "    matchNum = 0           #  if arm matched, this number will plus 1, until >= nrounds \n",
    "    rewardsRecord = []     #  record each matched event's record, its length will equal to 800 finally in this example\n",
    "    for arm in arms:\n",
    "        if matchNum >= nrounds:\n",
    "            return rewardsRecord\n",
    "        elif mab.play(len(rewardsRecord),contexts[index]) == arm - 1:   # arm here is from 1-10, will be changed to 0-9 to fit the method\n",
    "            mab.update(arm - 1,rewards[index],contexts[index])   # arm here is from 1-10, will be changed to 0-9 to fit the method\n",
    "            rewardsRecord.append(rewards[index])\n",
    "            matchNum += 1\n",
    "            index += 1\n",
    "        else:\n",
    "            index += 1     # not match, jump to next event\n",
    "            continue\n",
    "            \n",
    "    "
   ]
  },
  {
   "cell_type": "code",
   "execution_count": 6,
   "metadata": {},
   "outputs": [],
   "source": [
    "def getDataset():    # this method is used to return the first column (arms), second column(rewards), and rest matrix(contexts),given the dataset.txt\n",
    "    dataset = np.loadtxt(\"C:\\\\Users\\\\vincent916735\\\\Desktop\\\\dataset.txt\")\n",
    "    arms = [int(x) for x in dataset[:,0]]\n",
    "    rewards = dataset[:,1]\n",
    "    contexts = dataset[:,2:]\n",
    "    return arms,rewards,contexts"
   ]
  },
  {
   "cell_type": "code",
   "execution_count": 11,
   "metadata": {},
   "outputs": [
    {
     "name": "stdout",
     "output_type": "stream",
     "text": [
      "EpsGreedy average reward 0.24125\n"
     ]
    }
   ],
   "source": [
    "\n",
    "mab = EpsGreedy(10, 0.05)\n",
    "arms,rewards,contexts = getDataset()\n",
    "results_EpsGreedy = offlineEvaluate(mab, arms, rewards, contexts, 800)\n",
    "print('EpsGreedy average reward', np.mean(results_EpsGreedy))"
   ]
  },
  {
   "cell_type": "code",
   "execution_count": 13,
   "metadata": {},
   "outputs": [
    {
     "name": "stdout",
     "output_type": "stream",
     "text": [
      "UCB average reward 0.15875\n"
     ]
    }
   ],
   "source": [
    "mab = UCB(10, 1.0)\n",
    "arms,rewards,contexts = getDataset()\n",
    "results_UCB = offlineEvaluate(mab, arms, rewards, contexts, 800)\n",
    "print('UCB average reward', np.mean(results_UCB))"
   ]
  },
  {
   "cell_type": "markdown",
   "metadata": {},
   "source": [
    "## 3. Contextual Bandits"
   ]
  },
  {
   "cell_type": "code",
   "execution_count": 14,
   "metadata": {},
   "outputs": [],
   "source": [
    "class LinUCB(MAB):\n",
    "    \"\"\"\n",
    "    Contextual multi-armed bandit (LinUCB)\n",
    "\n",
    "    Arguments\n",
    "    =========\n",
    "    narms : int\n",
    "        number of arms\n",
    "\n",
    "    ndims : int\n",
    "        number of dimensions for each arm's context\n",
    "\n",
    "    alpha : float\n",
    "        positive real explore-exploit parameter\n",
    "    \"\"\"\n",
    "    \n",
    "    def __init__(self, narms, ndims, alpha):\n",
    "        self.narms=narms\n",
    "        self.ndims=ndims\n",
    "        self.alpha=alpha\n",
    "        self.A = {}  # dictionary to store A matrix\n",
    "        self.b = {}  # dictionary to store b matrix\n",
    "        self.AI = {}   # dictionary to store A's inverse matrix\n",
    "        self.p=[0 for i in range(self.narms)]  # initial value set to 0\n",
    "        for arm in range(self.narms):\n",
    "            self.A[arm] = np.identity(self.ndims)   # initial A matrix for 10 arms: 10-dimensional identity matrix\n",
    "            self.b[arm] = np.zeros((self.ndims,1))  # initial b matrix for 10 arms: 10-dimensional zero vector\n",
    "\n",
    "    def play(self, tround, context):\n",
    "        for arm in range(self.narms):       \n",
    "            xt = np.array([context[arm]]) # get this arm's feature, context[arm] looks like: [_,_,_,_,_,_,_,_,_,_]\n",
    "            xtT = np.transpose(xt)   \n",
    "            self.AI[arm] = np.linalg.inv(self.A[arm])\n",
    "            theta = np.dot(self.AI[arm],self.b[arm])\n",
    "            p = np.dot(np.transpose(theta),xtT) + self.alpha * np.sqrt(np.dot(np.dot(xt,self.AI[arm]),xtT))\n",
    "            self.p[arm] = p\n",
    "        maxP = max(self.p)\n",
    "        return np.random.choice([i for i,v in enumerate(self.p) if v == maxP]) # Tie-breaking, randomly choose value in maxValue set\n",
    "    \n",
    "    def update(self, arm, reward, context):    \n",
    "        xt=np.array([context[arm]])\n",
    "        xtT = np.transpose(xt)\n",
    "        self.A[arm] = self.A[arm] + np.dot(xtT,xt)\n",
    "        self.b[arm] = self.b[arm] + reward * xtT"
   ]
  },
  {
   "cell_type": "code",
   "execution_count": 15,
   "metadata": {},
   "outputs": [],
   "source": [
    " \"\"\"\n",
    " This method will return _contexts for LinUCB only, in order to simplfy the calculation. the only difference between\n",
    " contexts and _contexts is:\n",
    " for each rows in contexts: [_,_,_,...] ,100 elements in the list\n",
    " for each rows in _contexts: [[10 features for arm 1],[10 features for arm 2],[10 features for arm 3]...]\n",
    " In this case, in LinUCB's play(), arm's feature will be context[arm]\n",
    " \"\"\"\n",
    "def get_contexts(): \n",
    "    _contexts=[]\n",
    "    dataset = open(\"C:\\\\Users\\\\vincent916735\\\\Desktop\\\\dataset.txt\")\n",
    "    contexts = dataset.readlines()   \n",
    "    for row in contexts:\n",
    "        preContext = row.split(' ')    \n",
    "        adjustedContext=[]\n",
    "        t=[]\n",
    "        for num in range(2,102):\n",
    "            if(num - 2 != 0 and (num - 2) % 10 == 0):\n",
    "                adjustedContext.append(t)\n",
    "                t=[]         \n",
    "            t.append(int(preContext[num]))          \n",
    "        adjustedContext.append(t)  \n",
    "        _contexts.append(adjustedContext)\n",
    "    return _contexts"
   ]
  },
  {
   "cell_type": "code",
   "execution_count": 16,
   "metadata": {},
   "outputs": [
    {
     "name": "stdout",
     "output_type": "stream",
     "text": [
      "LinUCB average reward 0.53\n"
     ]
    }
   ],
   "source": [
    "_contexts = get_contexts()\n",
    "mab = LinUCB(10, 10, 1.0)\n",
    "results_LinUCB = offlineEvaluate(mab, arms, rewards,_contexts, 800)\n",
    "print('LinUCB average reward', np.mean(results_LinUCB))"
   ]
  },
  {
   "cell_type": "markdown",
   "metadata": {},
   "source": [
    "## 4. Evaluation\n",
    "### 4.A."
   ]
  },
  {
   "cell_type": "code",
   "execution_count": 18,
   "metadata": {},
   "outputs": [
    {
     "data": {
      "image/png": "[encoded data removed]",
      "text/plain": [
       "<Figure size 432x288 with 1 Axes>"
      ]
     },
     "metadata": {},
     "output_type": "display_data"
    }
   ],
   "source": [
    "plt.figure()\n",
    "plt.title('Cumulative reward of three methods')\n",
    "plt.xlabel('Round')\n",
    "plt.ylabel('Cumulative reward')\n",
    "mab = EpsGreedy(10, 0.05)\n",
    "arms,rewards,contexts = getDataset()\n",
    "results_EpsGreedy = offlineEvaluate(mab, arms, rewards, contexts, 800)\n",
    "mab = UCB(10, 1.0)\n",
    "results_UCB = offlineEvaluate(mab, arms, rewards, contexts, 800)\n",
    "mab = LinUCB(10, 10, 1.0)\n",
    "results_LinUCB = offlineEvaluate(mab, arms, rewards,_contexts, 800)\n",
    "cul_EpsGreedy = []\n",
    "cul_UCB = []\n",
    "cul_LinUCB = []\n",
    "index = []\n",
    "for i in range(1,800):\n",
    "    cul_EpsGreedy.append(np.mean(results_EpsGreedy[:i]))\n",
    "    cul_UCB.append(np.mean(results_UCB[:i]))\n",
    "    cul_LinUCB.append(np.mean(results_LinUCB[:i]))\n",
    "    index.append(i)\n",
    "plt.plot(index,cul_EpsGreedy,label=\"EpsilonGreedy\")\n",
    "plt.plot(index,cul_UCB,label=\"UCB\")\n",
    "plt.plot(index,cul_LinUCB,label=\"LinUCB\")\n",
    "plt.legend()\n",
    "plt.show()"
   ]
  },
  {
   "cell_type": "markdown",
   "metadata": {},
   "source": [
    "### 4.B."
   ]
  },
  {
   "cell_type": "code",
   "execution_count": 19,
   "metadata": {
    "scrolled": false
   },
   "outputs": [
    {
     "name": "stdout",
     "output_type": "stream",
     "text": [
      "The optimised alpha is  0.02\n",
      "The largest average result is  0.73125\n"
     ]
    },
    {
     "data": {
      "text/plain": [
       "[<matplotlib.lines.Line2D at 0x25c1c7a3390>]"
      ]
     },
     "execution_count": 19,
     "metadata": {},
     "output_type": "execute_result"
    },
    {
     "data": {
      "image/png": "[encoded data removed]",
      "text/plain": [
       "<Figure size 432x288 with 1 Axes>"
      ]
     },
     "metadata": {},
     "output_type": "display_data"
    }
   ],
   "source": [
    "plt.figure()\n",
    "plt.title('Grid-based strategy')\n",
    "plt.xlabel('Alpha')\n",
    "plt.ylabel('Related LinUCB result')\n",
    "acc = 0     # acc is the accumulation of alpha, start from 0.1\n",
    "addition = 0.01    # each time acc += addition\n",
    "alpha = []     # alpha list to store different alpha value\n",
    "results = []\n",
    "bestAlpha = 0\n",
    "result_Max = 0\n",
    "for i in range(200):     # alpha try from 0.1, 0.2, 0.3... to 2.0\n",
    "    alpha.append(acc)\n",
    "    acc += addition\n",
    "for a in alpha:\n",
    "    mab = LinUCB(10, 10, a)\n",
    "    arms,rewards,contexts = getDataset()\n",
    "    results_LinUCB = offlineEvaluate(mab, arms, rewards, _contexts, 800)\n",
    "    results.append(np.mean(results_LinUCB))\n",
    "    if np.mean(results_LinUCB)> result_Max:\n",
    "        result_Max = np.mean(results_LinUCB)\n",
    "        bestAlpha = a\n",
    "print('The optimised alpha is ',bestAlpha)\n",
    "print('The largest average result is ',result_Max)\n",
    "plt.plot(alpha,results) "
   ]
  }
 ],
 "metadata": {
  "kernelspec": {
   "display_name": "Python 3",
   "language": "python",
   "name": "python3"
  },
  "language_info": {
   "codemirror_mode": {
    "name": "ipython",
    "version": 3
   },
   "file_extension": ".py",
   "mimetype": "text/x-python",
   "name": "python",
   "nbconvert_exporter": "python",
   "pygments_lexer": "ipython3",
   "version": "3.6.5"
  }
 },
 "nbformat": 4,
 "nbformat_minor": 2
}
